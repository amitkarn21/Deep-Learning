{
 "cells": [
  {
   "cell_type": "markdown",
   "id": "57bc9e7e",
   "metadata": {},
   "source": [
    "## Multiple Layer Perceptron Hands-on using `IRIS Dataset`"
   ]
  },
  {
   "cell_type": "markdown",
   "id": "82e93861",
   "metadata": {},
   "source": [
    "### Import certain libraries"
   ]
  },
  {
   "cell_type": "code",
   "execution_count": 1,
   "id": "b8416ebe",
   "metadata": {},
   "outputs": [],
   "source": [
    "import numpy as np\n",
    "import pandas as pd\n",
    "from sklearn.preprocessing import OneHotEncoder\n",
    "from sklearn.model_selection import train_test_split\n",
    "from sklearn.neural_network import MLPClassifier #scikit library\n",
    "from sklearn.metrics import classification_report, accuracy_score\n",
    "import seaborn as sns\n",
    "import matplotlib.pyplot as plt"
   ]
  },
  {
   "cell_type": "markdown",
   "id": "f29c013a",
   "metadata": {},
   "source": [
    "### Step #1 Load the IRIS dataset"
   ]
  },
  {
   "cell_type": "markdown",
   "id": "2a53e5b9",
   "metadata": {},
   "source": [
    "##### `Input Layer` --> `ONE Hidden Layer` --> `Output Layer`"
   ]
  },
  {
   "cell_type": "code",
   "execution_count": 2,
   "id": "59868069",
   "metadata": {},
   "outputs": [],
   "source": [
    "from sklearn.datasets import load_iris"
   ]
  },
  {
   "cell_type": "code",
   "execution_count": 3,
   "id": "2820d4bd",
   "metadata": {},
   "outputs": [],
   "source": [
    "### Load the iris dataset\n",
    "iris = load_iris()"
   ]
  },
  {
   "cell_type": "code",
   "execution_count": 4,
   "id": "100cf3f6",
   "metadata": {},
   "outputs": [
    {
     "data": {
      "text/plain": [
       "sklearn.utils._bunch.Bunch"
      ]
     },
     "execution_count": 4,
     "metadata": {},
     "output_type": "execute_result"
    }
   ],
   "source": [
    "type(iris)"
   ]
  },
  {
   "cell_type": "code",
   "execution_count": 5,
   "id": "38af4a1e",
   "metadata": {},
   "outputs": [],
   "source": [
    "df_iris = pd.DataFrame(data = iris.data, columns=iris.feature_names)\n",
    "df_iris['target'] = iris.target\n"
   ]
  },
  {
   "cell_type": "code",
   "execution_count": 9,
   "id": "4ce6f089",
   "metadata": {},
   "outputs": [
    {
     "data": {
      "text/html": [
       "<div>\n",
       "<style scoped>\n",
       "    .dataframe tbody tr th:only-of-type {\n",
       "        vertical-align: middle;\n",
       "    }\n",
       "\n",
       "    .dataframe tbody tr th {\n",
       "        vertical-align: top;\n",
       "    }\n",
       "\n",
       "    .dataframe thead th {\n",
       "        text-align: right;\n",
       "    }\n",
       "</style>\n",
       "<table border=\"1\" class=\"dataframe\">\n",
       "  <thead>\n",
       "    <tr style=\"text-align: right;\">\n",
       "      <th></th>\n",
       "      <th>sepal length (cm)</th>\n",
       "      <th>sepal width (cm)</th>\n",
       "      <th>petal length (cm)</th>\n",
       "      <th>petal width (cm)</th>\n",
       "      <th>target</th>\n",
       "    </tr>\n",
       "  </thead>\n",
       "  <tbody>\n",
       "    <tr>\n",
       "      <th>0</th>\n",
       "      <td>5.1</td>\n",
       "      <td>3.5</td>\n",
       "      <td>1.4</td>\n",
       "      <td>0.2</td>\n",
       "      <td>0</td>\n",
       "    </tr>\n",
       "    <tr>\n",
       "      <th>1</th>\n",
       "      <td>4.9</td>\n",
       "      <td>3.0</td>\n",
       "      <td>1.4</td>\n",
       "      <td>0.2</td>\n",
       "      <td>0</td>\n",
       "    </tr>\n",
       "    <tr>\n",
       "      <th>2</th>\n",
       "      <td>4.7</td>\n",
       "      <td>3.2</td>\n",
       "      <td>1.3</td>\n",
       "      <td>0.2</td>\n",
       "      <td>0</td>\n",
       "    </tr>\n",
       "    <tr>\n",
       "      <th>3</th>\n",
       "      <td>4.6</td>\n",
       "      <td>3.1</td>\n",
       "      <td>1.5</td>\n",
       "      <td>0.2</td>\n",
       "      <td>0</td>\n",
       "    </tr>\n",
       "    <tr>\n",
       "      <th>4</th>\n",
       "      <td>5.0</td>\n",
       "      <td>3.6</td>\n",
       "      <td>1.4</td>\n",
       "      <td>0.2</td>\n",
       "      <td>0</td>\n",
       "    </tr>\n",
       "    <tr>\n",
       "      <th>...</th>\n",
       "      <td>...</td>\n",
       "      <td>...</td>\n",
       "      <td>...</td>\n",
       "      <td>...</td>\n",
       "      <td>...</td>\n",
       "    </tr>\n",
       "    <tr>\n",
       "      <th>145</th>\n",
       "      <td>6.7</td>\n",
       "      <td>3.0</td>\n",
       "      <td>5.2</td>\n",
       "      <td>2.3</td>\n",
       "      <td>2</td>\n",
       "    </tr>\n",
       "    <tr>\n",
       "      <th>146</th>\n",
       "      <td>6.3</td>\n",
       "      <td>2.5</td>\n",
       "      <td>5.0</td>\n",
       "      <td>1.9</td>\n",
       "      <td>2</td>\n",
       "    </tr>\n",
       "    <tr>\n",
       "      <th>147</th>\n",
       "      <td>6.5</td>\n",
       "      <td>3.0</td>\n",
       "      <td>5.2</td>\n",
       "      <td>2.0</td>\n",
       "      <td>2</td>\n",
       "    </tr>\n",
       "    <tr>\n",
       "      <th>148</th>\n",
       "      <td>6.2</td>\n",
       "      <td>3.4</td>\n",
       "      <td>5.4</td>\n",
       "      <td>2.3</td>\n",
       "      <td>2</td>\n",
       "    </tr>\n",
       "    <tr>\n",
       "      <th>149</th>\n",
       "      <td>5.9</td>\n",
       "      <td>3.0</td>\n",
       "      <td>5.1</td>\n",
       "      <td>1.8</td>\n",
       "      <td>2</td>\n",
       "    </tr>\n",
       "  </tbody>\n",
       "</table>\n",
       "<p>150 rows × 5 columns</p>\n",
       "</div>"
      ],
      "text/plain": [
       "     sepal length (cm)  sepal width (cm)  petal length (cm)  petal width (cm)  \\\n",
       "0                  5.1               3.5                1.4               0.2   \n",
       "1                  4.9               3.0                1.4               0.2   \n",
       "2                  4.7               3.2                1.3               0.2   \n",
       "3                  4.6               3.1                1.5               0.2   \n",
       "4                  5.0               3.6                1.4               0.2   \n",
       "..                 ...               ...                ...               ...   \n",
       "145                6.7               3.0                5.2               2.3   \n",
       "146                6.3               2.5                5.0               1.9   \n",
       "147                6.5               3.0                5.2               2.0   \n",
       "148                6.2               3.4                5.4               2.3   \n",
       "149                5.9               3.0                5.1               1.8   \n",
       "\n",
       "     target  \n",
       "0         0  \n",
       "1         0  \n",
       "2         0  \n",
       "3         0  \n",
       "4         0  \n",
       "..      ...  \n",
       "145       2  \n",
       "146       2  \n",
       "147       2  \n",
       "148       2  \n",
       "149       2  \n",
       "\n",
       "[150 rows x 5 columns]"
      ]
     },
     "execution_count": 9,
     "metadata": {},
     "output_type": "execute_result"
    }
   ],
   "source": [
    "df_iris"
   ]
  },
  {
   "cell_type": "code",
   "execution_count": 6,
   "id": "4cdc762b",
   "metadata": {},
   "outputs": [
    {
     "data": {
      "text/plain": [
       "array([0, 1, 2])"
      ]
     },
     "execution_count": 6,
     "metadata": {},
     "output_type": "execute_result"
    }
   ],
   "source": [
    "df_iris['target'].unique()"
   ]
  },
  {
   "cell_type": "markdown",
   "id": "0981ed60",
   "metadata": {},
   "source": [
    "### `INPUT LAYER` ---> ` (1) HIDDEN LAYER` ---> `OUTPUT LAYER`"
   ]
  },
  {
   "cell_type": "code",
   "execution_count": 15,
   "id": "e5dea9bb",
   "metadata": {},
   "outputs": [],
   "source": [
    "class NeuralNetwork:\n",
    "    def __init__(self, input_size, hidden_size, output_size, learning_rate = 0.01, epochs = 100):\n",
    "        self.input_size = input_size #no. of input features or variables in the input layer\n",
    "        self.hidden_size = hidden_size #no. of neurons in the hidden layer\n",
    "        self.output_size = output_size #no. of neurons in the output layer\n",
    "        self.learning_rate = learning_rate #learning rate for the gradient descent step\n",
    "        self.epochs = epochs #no. of training_epochs\n",
    "        \n",
    "        ###############################\n",
    "        # INPUT LAYER TO HIDDEN LAYER\n",
    "        ###############################\n",
    "        self.W1 = np.random.randn(self.input_size, self.hidden_size)*0.01 # random weights from input to hidden layer\n",
    "        self.b1 = np.zeros((1, self.hidden_size)) #bias for the hidden layer\n",
    "        \n",
    "        ###############################\n",
    "        # HIDDEN LAYER TO OUTPUT LAYER\n",
    "        ###############################\n",
    "        self.W2 = np.random.randn(self.hidden_size, self.output_size)*0.01 # random weights from hidden layer to output layer\n",
    "        self.b2 = np.zeros((1, self.output_size)) #bias for the output layer\n",
    "        \n",
    "        ### Loss history for plotting\n",
    "        self.loss_history = [] #empty list initialized to store the loss values during training epochs\n",
    "        ### Accuracy history for plotting\n",
    "        self.accuracy_history = [] #empty list initialized to store the accuracy values during training epochs\n",
    "        \n",
    "    ## ReLU activation functions\n",
    "    def relu (self, z):\n",
    "        return np.maximum(0,z)\n",
    "    \n",
    "    ## Derivative of ReLU for backpropagation\n",
    "    def relu_derivative(self, z):\n",
    "        return np.where(z>0, 1, 0)\n",
    "    \n",
    "    ## Softmax for multi-class classification\n",
    "    def softmax(self, z):\n",
    "        exp_values = np.exp(z - np.max(z, axis=1, keepdims = True)) #subtract max for numerical stability\n",
    "        return exp_values / np.sum(exp_values, axis = 1, keepdims= True)\n",
    "    \n",
    "\n",
    "     ######################\n",
    "    # FORWARD PROPAGATION #\n",
    "    ######################\n",
    "    \n",
    "    \n",
    "    def forward(self, X):\n",
    "        \n",
    "        ###############################\n",
    "        # INPUT LAYER TO HIDDEN LAYER\n",
    "        ###############################\n",
    "        self.z1 = np.dot(X, self.W1) + self.b1\n",
    "        self.a1 = self.relu(self.z1) # computes the activation function in the hidden layer using ReLU (Rectified Linear Unit)\n",
    "        \n",
    "         ###############################\n",
    "        # HIDDEN LAYER TO OUTPUT LAYER\n",
    "        ###############################\n",
    "        self.z2 = np.dot(self.a1, self.W2) + self.b2\n",
    "        self.probs = self.softmax(self.z2) #computes the probabilities using softmax for multi-class classification\n",
    "        \n",
    "        return self.probs\n",
    "    \n",
    "    ### cross-entropy loss for multi-class classification\n",
    "    def compute_loss(self,y_true, probs):\n",
    "        loss = -np.mean(np.sum(y_true * np.log(probs), axis=1))\n",
    "        return loss\n",
    "    \n",
    "    ### compute accuracy\n",
    "    def compute_accuracy(self, y_true, probs):\n",
    "        predictions = np.argmax(probs, axis=1)\n",
    "        true_labels = np.argmax(y_true, axis=1)\n",
    "        return np.mean(predictions == true_labels)\n",
    "    \n",
    "    ########################\n",
    "    # BACKWARD PROPAGATION #\n",
    "    #######################\n",
    "    \n",
    "    def backward(self, X, y):\n",
    "        # Number of rows/records/training examples\n",
    "        m = X.shape[0]\n",
    "        \n",
    "        #Gradients of the loss w.r.t. weights and biases of the OUTPUT LAYER\n",
    "        delta3 = self.probs - y # \n",
    "        dW2 = np.dot(self.a1.T, delta3)/m  # gradient (batch) of the loss w.r.t weights of the output layer (dW2)\n",
    "        db2 = np.sum(delta3, axis=0, keepdims=True) / m #Gradient of the loss w.r.t bias of the output layer (db2)\n",
    "        \n",
    "        #Gradients of the loss w.r.t. weights and biases of the HIDDEN LAYER\n",
    "        delta2 = np.dot(delta3, self.W2.T) * self.relu_derivative(self.z1) # used derivative of ReLU\n",
    "        dW1 = np.dot(X.T, delta2)/m  # gradient (batch) of the loss w.r.t weights of the hidden layer (dW1)\n",
    "        db1 = np.sum(delta2, axis=0, keepdims=True) / m #Gradient of the loss w.r.t bias of the hidden layer (db1)\n",
    "        \n",
    "        \n",
    "        ### Update the parameters - weights and biases across the layers\n",
    "        self.W2 -= self.learning_rate * dW2\n",
    "        self.b2 -= self.learning_rate * db2\n",
    "        self.W1 -= self.learning_rate * dW1\n",
    "        self.b1 -= self.learning_rate * db1\n",
    "        \n",
    "        \n",
    "        \n",
    "    def train(self, X, y):\n",
    "        for epoch in range(self.epochs):\n",
    "            \n",
    "            ### Forward Pass\n",
    "            probs = self.forward(X) # computes the predictions using forward pass\n",
    "            \n",
    "            ### Compute the categorical cross-entropy loss\n",
    "            loss = self.compute_loss(y, probs)\n",
    "            accuracy = self.compute_accuracy(y, probs)\n",
    "            self.loss_history.append(loss)\n",
    "            self.accuracy_history.append(accuracy)\n",
    "            \n",
    "            ### Backward pass (Backpropagation)\n",
    "            self.backward(X,y)\n",
    "            \n",
    "            ### Print the progress after every 10 epochs\n",
    "            if epoch % 10 == 0:\n",
    "                print(f'Epoch {epoch}, Loss: {loss:.4f}, Accuracy: {accuracy:.4f}')\n",
    "            \n",
    "    \n",
    "    def test(self, X_test, y_test):\n",
    "        \n",
    "        probs = self.forward(X_test)\n",
    "        loss = self.compute_loss(y_test, probs)\n",
    "        accuracy = self.compute_accuracy(y_test, probs)\n",
    "        \n",
    "        print(f'Test Loss: {loss:.4f}, Test_Accuracy: {accuracy:.4f}')\n",
    "        return loss, accuracy"
   ]
  },
  {
   "cell_type": "code",
   "execution_count": 13,
   "id": "95643759",
   "metadata": {},
   "outputs": [
    {
     "data": {
      "text/plain": [
       "'C:\\\\Users\\\\think\\\\OneDrive - Thinking Mojo\\\\TSLC\\\\Intellipaat\\\\Session Master\\\\04. AI and DL IITR-17Nov2024'"
      ]
     },
     "execution_count": 13,
     "metadata": {},
     "output_type": "execute_result"
    }
   ],
   "source": [
    "import os\n",
    "os.getcwd()"
   ]
  },
  {
   "cell_type": "markdown",
   "id": "d26b110c",
   "metadata": {},
   "source": [
    "### Initialize the network for `IRIS` dataset"
   ]
  },
  {
   "cell_type": "code",
   "execution_count": 14,
   "id": "49d3e545",
   "metadata": {},
   "outputs": [],
   "source": [
    "input_size = 4 # number of input features (from IRIS dataset)\n",
    "hidden_size = 8 # number of neurons in the hidden layer\n",
    "output_size = 3 # number of classes (setosa, versicolor, virginica)"
   ]
  },
  {
   "cell_type": "code",
   "execution_count": 31,
   "id": "a6932326",
   "metadata": {},
   "outputs": [],
   "source": [
    "### Fire the very much our own NN --> MLP\n",
    "nn = NeuralNetwork(input_size, hidden_size, output_size, epochs=500, learning_rate=0.03) #creating the NN object"
   ]
  },
  {
   "cell_type": "code",
   "execution_count": 32,
   "id": "8620b938",
   "metadata": {},
   "outputs": [
    {
     "data": {
      "text/plain": [
       "<__main__.NeuralNetwork at 0x1e80cc221c0>"
      ]
     },
     "execution_count": 32,
     "metadata": {},
     "output_type": "execute_result"
    }
   ],
   "source": [
    "nn"
   ]
  },
  {
   "cell_type": "markdown",
   "id": "fd17b190",
   "metadata": {},
   "source": [
    "### Training"
   ]
  },
  {
   "cell_type": "code",
   "execution_count": 21,
   "id": "5ffc4f01",
   "metadata": {},
   "outputs": [
    {
     "data": {
      "text/plain": [
       "array([[5.1, 3.5, 1.4, 0.2],\n",
       "       [4.9, 3. , 1.4, 0.2],\n",
       "       [4.7, 3.2, 1.3, 0.2],\n",
       "       [4.6, 3.1, 1.5, 0.2],\n",
       "       [5. , 3.6, 1.4, 0.2]])"
      ]
     },
     "execution_count": 21,
     "metadata": {},
     "output_type": "execute_result"
    }
   ],
   "source": [
    "X = iris.data\n",
    "X[:5]"
   ]
  },
  {
   "cell_type": "code",
   "execution_count": 22,
   "id": "be9be954",
   "metadata": {},
   "outputs": [],
   "source": [
    "y = iris.target"
   ]
  },
  {
   "cell_type": "code",
   "execution_count": 23,
   "id": "f41a4a5b",
   "metadata": {},
   "outputs": [
    {
     "data": {
      "text/plain": [
       "array([0, 0, 0, 0, 0, 0, 0, 0, 0, 0, 0, 0, 0, 0, 0, 0, 0, 0, 0, 0, 0, 0,\n",
       "       0, 0, 0, 0, 0, 0, 0, 0, 0, 0, 0, 0, 0, 0, 0, 0, 0, 0, 0, 0, 0, 0,\n",
       "       0, 0, 0, 0, 0, 0, 1, 1, 1, 1, 1, 1, 1, 1, 1, 1, 1, 1, 1, 1, 1, 1,\n",
       "       1, 1, 1, 1, 1, 1, 1, 1, 1, 1, 1, 1, 1, 1, 1, 1, 1, 1, 1, 1, 1, 1,\n",
       "       1, 1, 1, 1, 1, 1, 1, 1, 1, 1, 1, 1, 2, 2, 2, 2, 2, 2, 2, 2, 2, 2,\n",
       "       2, 2, 2, 2, 2, 2, 2, 2, 2, 2, 2, 2, 2, 2, 2, 2, 2, 2, 2, 2, 2, 2,\n",
       "       2, 2, 2, 2, 2, 2, 2, 2, 2, 2, 2, 2, 2, 2, 2, 2, 2, 2])"
      ]
     },
     "execution_count": 23,
     "metadata": {},
     "output_type": "execute_result"
    }
   ],
   "source": [
    "y"
   ]
  },
  {
   "cell_type": "markdown",
   "id": "5e80879a",
   "metadata": {},
   "source": [
    "#### One hot encoding"
   ]
  },
  {
   "cell_type": "code",
   "execution_count": 24,
   "id": "f5296718",
   "metadata": {},
   "outputs": [
    {
     "name": "stderr",
     "output_type": "stream",
     "text": [
      "C:\\Users\\think\\anaconda3\\lib\\site-packages\\sklearn\\preprocessing\\_encoders.py:975: FutureWarning: `sparse` was renamed to `sparse_output` in version 1.2 and will be removed in 1.4. `sparse_output` is ignored unless you leave `sparse` to its default value.\n",
      "  warnings.warn(\n"
     ]
    }
   ],
   "source": [
    "encoder = OneHotEncoder(sparse=False)\n",
    "y = encoder.fit_transform(y.reshape(-1,1))"
   ]
  },
  {
   "cell_type": "code",
   "execution_count": 25,
   "id": "ec8f74e9",
   "metadata": {},
   "outputs": [
    {
     "data": {
      "text/plain": [
       "array([[1., 0., 0.],\n",
       "       [1., 0., 0.],\n",
       "       [1., 0., 0.],\n",
       "       [1., 0., 0.],\n",
       "       [1., 0., 0.],\n",
       "       [1., 0., 0.],\n",
       "       [1., 0., 0.],\n",
       "       [1., 0., 0.],\n",
       "       [1., 0., 0.],\n",
       "       [1., 0., 0.],\n",
       "       [1., 0., 0.],\n",
       "       [1., 0., 0.],\n",
       "       [1., 0., 0.],\n",
       "       [1., 0., 0.],\n",
       "       [1., 0., 0.],\n",
       "       [1., 0., 0.],\n",
       "       [1., 0., 0.],\n",
       "       [1., 0., 0.],\n",
       "       [1., 0., 0.],\n",
       "       [1., 0., 0.],\n",
       "       [1., 0., 0.],\n",
       "       [1., 0., 0.],\n",
       "       [1., 0., 0.],\n",
       "       [1., 0., 0.],\n",
       "       [1., 0., 0.],\n",
       "       [1., 0., 0.],\n",
       "       [1., 0., 0.],\n",
       "       [1., 0., 0.],\n",
       "       [1., 0., 0.],\n",
       "       [1., 0., 0.],\n",
       "       [1., 0., 0.],\n",
       "       [1., 0., 0.],\n",
       "       [1., 0., 0.],\n",
       "       [1., 0., 0.],\n",
       "       [1., 0., 0.],\n",
       "       [1., 0., 0.],\n",
       "       [1., 0., 0.],\n",
       "       [1., 0., 0.],\n",
       "       [1., 0., 0.],\n",
       "       [1., 0., 0.],\n",
       "       [1., 0., 0.],\n",
       "       [1., 0., 0.],\n",
       "       [1., 0., 0.],\n",
       "       [1., 0., 0.],\n",
       "       [1., 0., 0.],\n",
       "       [1., 0., 0.],\n",
       "       [1., 0., 0.],\n",
       "       [1., 0., 0.],\n",
       "       [1., 0., 0.],\n",
       "       [1., 0., 0.],\n",
       "       [0., 1., 0.],\n",
       "       [0., 1., 0.],\n",
       "       [0., 1., 0.],\n",
       "       [0., 1., 0.],\n",
       "       [0., 1., 0.],\n",
       "       [0., 1., 0.],\n",
       "       [0., 1., 0.],\n",
       "       [0., 1., 0.],\n",
       "       [0., 1., 0.],\n",
       "       [0., 1., 0.],\n",
       "       [0., 1., 0.],\n",
       "       [0., 1., 0.],\n",
       "       [0., 1., 0.],\n",
       "       [0., 1., 0.],\n",
       "       [0., 1., 0.],\n",
       "       [0., 1., 0.],\n",
       "       [0., 1., 0.],\n",
       "       [0., 1., 0.],\n",
       "       [0., 1., 0.],\n",
       "       [0., 1., 0.],\n",
       "       [0., 1., 0.],\n",
       "       [0., 1., 0.],\n",
       "       [0., 1., 0.],\n",
       "       [0., 1., 0.],\n",
       "       [0., 1., 0.],\n",
       "       [0., 1., 0.],\n",
       "       [0., 1., 0.],\n",
       "       [0., 1., 0.],\n",
       "       [0., 1., 0.],\n",
       "       [0., 1., 0.],\n",
       "       [0., 1., 0.],\n",
       "       [0., 1., 0.],\n",
       "       [0., 1., 0.],\n",
       "       [0., 1., 0.],\n",
       "       [0., 1., 0.],\n",
       "       [0., 1., 0.],\n",
       "       [0., 1., 0.],\n",
       "       [0., 1., 0.],\n",
       "       [0., 1., 0.],\n",
       "       [0., 1., 0.],\n",
       "       [0., 1., 0.],\n",
       "       [0., 1., 0.],\n",
       "       [0., 1., 0.],\n",
       "       [0., 1., 0.],\n",
       "       [0., 1., 0.],\n",
       "       [0., 1., 0.],\n",
       "       [0., 1., 0.],\n",
       "       [0., 1., 0.],\n",
       "       [0., 1., 0.],\n",
       "       [0., 1., 0.],\n",
       "       [0., 0., 1.],\n",
       "       [0., 0., 1.],\n",
       "       [0., 0., 1.],\n",
       "       [0., 0., 1.],\n",
       "       [0., 0., 1.],\n",
       "       [0., 0., 1.],\n",
       "       [0., 0., 1.],\n",
       "       [0., 0., 1.],\n",
       "       [0., 0., 1.],\n",
       "       [0., 0., 1.],\n",
       "       [0., 0., 1.],\n",
       "       [0., 0., 1.],\n",
       "       [0., 0., 1.],\n",
       "       [0., 0., 1.],\n",
       "       [0., 0., 1.],\n",
       "       [0., 0., 1.],\n",
       "       [0., 0., 1.],\n",
       "       [0., 0., 1.],\n",
       "       [0., 0., 1.],\n",
       "       [0., 0., 1.],\n",
       "       [0., 0., 1.],\n",
       "       [0., 0., 1.],\n",
       "       [0., 0., 1.],\n",
       "       [0., 0., 1.],\n",
       "       [0., 0., 1.],\n",
       "       [0., 0., 1.],\n",
       "       [0., 0., 1.],\n",
       "       [0., 0., 1.],\n",
       "       [0., 0., 1.],\n",
       "       [0., 0., 1.],\n",
       "       [0., 0., 1.],\n",
       "       [0., 0., 1.],\n",
       "       [0., 0., 1.],\n",
       "       [0., 0., 1.],\n",
       "       [0., 0., 1.],\n",
       "       [0., 0., 1.],\n",
       "       [0., 0., 1.],\n",
       "       [0., 0., 1.],\n",
       "       [0., 0., 1.],\n",
       "       [0., 0., 1.],\n",
       "       [0., 0., 1.],\n",
       "       [0., 0., 1.],\n",
       "       [0., 0., 1.],\n",
       "       [0., 0., 1.],\n",
       "       [0., 0., 1.],\n",
       "       [0., 0., 1.],\n",
       "       [0., 0., 1.],\n",
       "       [0., 0., 1.],\n",
       "       [0., 0., 1.],\n",
       "       [0., 0., 1.]])"
      ]
     },
     "execution_count": 25,
     "metadata": {},
     "output_type": "execute_result"
    }
   ],
   "source": [
    "y"
   ]
  },
  {
   "cell_type": "code",
   "execution_count": 33,
   "id": "4bc79dd8",
   "metadata": {},
   "outputs": [],
   "source": [
    "### Split the IRIS dataset into training and testing sets\n",
    "X_train, X_test, y_train, y_test = train_test_split(X,y, test_size=0.2, random_state=42)"
   ]
  },
  {
   "cell_type": "code",
   "execution_count": 34,
   "id": "7aea3274",
   "metadata": {},
   "outputs": [
    {
     "data": {
      "text/plain": [
       "(120, 4)"
      ]
     },
     "execution_count": 34,
     "metadata": {},
     "output_type": "execute_result"
    }
   ],
   "source": [
    "X_train.shape"
   ]
  },
  {
   "cell_type": "code",
   "execution_count": 35,
   "id": "c4fa3ae5",
   "metadata": {},
   "outputs": [
    {
     "data": {
      "text/plain": [
       "(30, 4)"
      ]
     },
     "execution_count": 35,
     "metadata": {},
     "output_type": "execute_result"
    }
   ],
   "source": [
    "X_test.shape"
   ]
  },
  {
   "cell_type": "code",
   "execution_count": 36,
   "id": "29e24445",
   "metadata": {},
   "outputs": [
    {
     "data": {
      "text/plain": [
       "20.0"
      ]
     },
     "execution_count": 36,
     "metadata": {},
     "output_type": "execute_result"
    }
   ],
   "source": [
    "30/150*100"
   ]
  },
  {
   "cell_type": "code",
   "execution_count": 37,
   "id": "13529dc7",
   "metadata": {},
   "outputs": [
    {
     "name": "stdout",
     "output_type": "stream",
     "text": [
      "Epoch 0, Loss: 1.0986, Accuracy: 0.3250\n",
      "Epoch 10, Loss: 1.0983, Accuracy: 0.3417\n",
      "Epoch 20, Loss: 1.0980, Accuracy: 0.3417\n",
      "Epoch 30, Loss: 1.0974, Accuracy: 0.3417\n",
      "Epoch 40, Loss: 1.0965, Accuracy: 0.3417\n",
      "Epoch 50, Loss: 1.0948, Accuracy: 0.3417\n",
      "Epoch 60, Loss: 1.0918, Accuracy: 0.5833\n",
      "Epoch 70, Loss: 1.0866, Accuracy: 0.3583\n",
      "Epoch 80, Loss: 1.0778, Accuracy: 0.3250\n",
      "Epoch 90, Loss: 1.0642, Accuracy: 0.3250\n",
      "Epoch 100, Loss: 1.0448, Accuracy: 0.3250\n",
      "Epoch 110, Loss: 1.0186, Accuracy: 0.3333\n",
      "Epoch 120, Loss: 0.9836, Accuracy: 0.6000\n",
      "Epoch 130, Loss: 0.9387, Accuracy: 0.6583\n",
      "Epoch 140, Loss: 0.8913, Accuracy: 0.6583\n",
      "Epoch 150, Loss: 0.8428, Accuracy: 0.6583\n",
      "Epoch 160, Loss: 0.7921, Accuracy: 0.6583\n",
      "Epoch 170, Loss: 0.7386, Accuracy: 0.6583\n",
      "Epoch 180, Loss: 0.6853, Accuracy: 0.6667\n",
      "Epoch 190, Loss: 0.6362, Accuracy: 0.6750\n",
      "Epoch 200, Loss: 0.5938, Accuracy: 0.6917\n",
      "Epoch 210, Loss: 0.5582, Accuracy: 0.7083\n",
      "Epoch 220, Loss: 0.5285, Accuracy: 0.7833\n",
      "Epoch 230, Loss: 0.5035, Accuracy: 0.8583\n",
      "Epoch 240, Loss: 0.4819, Accuracy: 0.8833\n",
      "Epoch 250, Loss: 0.4629, Accuracy: 0.9000\n",
      "Epoch 260, Loss: 0.4458, Accuracy: 0.9167\n",
      "Epoch 270, Loss: 0.4300, Accuracy: 0.9250\n",
      "Epoch 280, Loss: 0.4154, Accuracy: 0.9333\n",
      "Epoch 290, Loss: 0.4015, Accuracy: 0.9500\n",
      "Epoch 300, Loss: 0.3882, Accuracy: 0.9500\n",
      "Epoch 310, Loss: 0.3754, Accuracy: 0.9667\n",
      "Epoch 320, Loss: 0.3630, Accuracy: 0.9667\n",
      "Epoch 330, Loss: 0.3510, Accuracy: 0.9750\n",
      "Epoch 340, Loss: 0.3394, Accuracy: 0.9750\n",
      "Epoch 350, Loss: 0.3280, Accuracy: 0.9750\n",
      "Epoch 360, Loss: 0.3170, Accuracy: 0.9750\n",
      "Epoch 370, Loss: 0.3064, Accuracy: 0.9750\n",
      "Epoch 380, Loss: 0.2961, Accuracy: 0.9833\n",
      "Epoch 390, Loss: 0.2861, Accuracy: 0.9833\n",
      "Epoch 400, Loss: 0.2766, Accuracy: 0.9833\n",
      "Epoch 410, Loss: 0.2674, Accuracy: 0.9833\n",
      "Epoch 420, Loss: 0.2586, Accuracy: 0.9833\n",
      "Epoch 430, Loss: 0.2502, Accuracy: 0.9833\n",
      "Epoch 440, Loss: 0.2421, Accuracy: 0.9833\n",
      "Epoch 450, Loss: 0.2345, Accuracy: 0.9833\n",
      "Epoch 460, Loss: 0.2272, Accuracy: 0.9833\n",
      "Epoch 470, Loss: 0.2203, Accuracy: 0.9833\n",
      "Epoch 480, Loss: 0.2137, Accuracy: 0.9833\n",
      "Epoch 490, Loss: 0.2075, Accuracy: 0.9833\n"
     ]
    }
   ],
   "source": [
    "### Train the NN on the training set\n",
    "nn.train(X_train, y_train) # make the NN model to learn input and output (supervised learning)"
   ]
  },
  {
   "cell_type": "markdown",
   "id": "56ab681e",
   "metadata": {},
   "source": [
    "### Let us do some plotting"
   ]
  },
  {
   "cell_type": "markdown",
   "id": "6964fff4",
   "metadata": {},
   "source": [
    "`Loss vs Epochs` | `Accuracy vs Epochs`"
   ]
  },
  {
   "cell_type": "code",
   "execution_count": 42,
   "id": "230193a2",
   "metadata": {},
   "outputs": [
    {
     "data": {
      "image/png": "[encoded data removed]",
      "text/plain": [
       "<Figure size 720x720 with 2 Axes>"
      ]
     },
     "metadata": {
      "needs_background": "light"
     },
     "output_type": "display_data"
    }
   ],
   "source": [
    "fig, ax = plt.subplots(2,1, figsize = (10,10))\n",
    "\n",
    "### Plot the loss by epoch\n",
    "ax[0].plot(nn.loss_history, label='Loss', color='darkred', linewidth=2)\n",
    "ax[0].set_title('Loss vs Epochs')\n",
    "ax[0].set_xlabel('Epochs')\n",
    "ax[0].set_ylabel('Loss')\n",
    "ax[0].legend()\n",
    "\n",
    "\n",
    "### Plot the accuracy by epoch\n",
    "ax[1].plot(nn.accuracy_history, label='Accuracy', color='darkgreen', linewidth=2)\n",
    "ax[1].set_title('Accuracy vs Epochs')\n",
    "ax[1].set_xlabel('Epochs')\n",
    "ax[1].set_ylabel('Accuracy')\n",
    "ax[1].legend()\n",
    "\n",
    "### Add a super title\n",
    "plt.suptitle('Model Performance Metrics', fontsize=16, fontweight='bold')\n",
    "\n",
    "plt.tight_layout(rect=[0, 0, 1, 0.95])  # Adjust layout to fit the super title\n",
    "\n",
    "plt.show()"
   ]
  },
  {
   "cell_type": "code",
   "execution_count": null,
   "id": "32899ced",
   "metadata": {},
   "outputs": [],
   "source": []
  }
 ],
 "metadata": {
  "kernelspec": {
   "display_name": "Python 3 (ipykernel)",
   "language": "python",
   "name": "python3"
  },
  "language_info": {
   "codemirror_mode": {
    "name": "ipython",
    "version": 3
   },
   "file_extension": ".py",
   "mimetype": "text/x-python",
   "name": "python",
   "nbconvert_exporter": "python",
   "pygments_lexer": "ipython3",
   "version": "3.11.5"
  }
 },
 "nbformat": 4,
 "nbformat_minor": 5
}
