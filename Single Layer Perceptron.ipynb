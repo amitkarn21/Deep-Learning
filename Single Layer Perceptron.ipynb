{
 "cells": [
  {
   "cell_type": "code",
   "execution_count": 1,
   "id": "2b4d7afd",
   "metadata": {},
   "outputs": [],
   "source": [
    "import pandas as pd\n",
    "import numpy as np \n",
    "import os\n",
    "import matplotlib.pyplot as plt\n",
    "import seaborn as sns"
   ]
  },
  {
   "cell_type": "markdown",
   "id": "fe2decc4",
   "metadata": {},
   "source": [
    "Load the sample demonstration dataset"
   ]
  },
  {
   "cell_type": "code",
   "execution_count": 2,
   "id": "6a9f9aea",
   "metadata": {},
   "outputs": [],
   "source": [
    "X = np.array([\n",
    "    [2,1],\n",
    "    [1,-1],\n",
    "    [-1,-2],\n",
    "    [-2,1]\n",
    "])\n",
    "\n",
    "Y = np.array([1,0,0,1]) #Labels"
   ]
  },
  {
   "cell_type": "code",
   "execution_count": 3,
   "id": "84baf8aa",
   "metadata": {},
   "outputs": [],
   "source": [
    "### Initial weights, bias and learning rate\n",
    "W = np.array([0.5, -0.5]) # initial weights\n",
    "b = 0.1 #bias\n",
    "alpha=0.1 # learning rate"
   ]
  },
  {
   "cell_type": "markdown",
   "id": "0aefaf43",
   "metadata": {},
   "source": [
    "Activation Function (Unit Step Activation Function)"
   ]
  },
  {
   "cell_type": "code",
   "execution_count": 4,
   "id": "54e17cc6",
   "metadata": {},
   "outputs": [],
   "source": [
    "def step_af(z):\n",
    "    return 1 if z >=0 else 0"
   ]
  },
  {
   "cell_type": "code",
   "execution_count": 5,
   "id": "22746701",
   "metadata": {},
   "outputs": [
    {
     "data": {
      "text/plain": [
       "(0, 1, 1)"
      ]
     },
     "execution_count": 5,
     "metadata": {},
     "output_type": "execute_result"
    }
   ],
   "source": [
    "step_af(-1.1), step_af(0), step_af(0.01)"
   ]
  },
  {
   "cell_type": "markdown",
   "id": "4c683edc",
   "metadata": {},
   "source": [
    "Perceptron Train"
   ]
  },
  {
   "cell_type": "code",
   "execution_count": 6,
   "id": "85cd6d87",
   "metadata": {},
   "outputs": [],
   "source": [
    "def perceptron_train(X,Y,W,b,alpha, epochs):\n",
    "    for epoch in range(epochs):\n",
    "        print(f\"Epoch# {epoch + 1}\")\n",
    "        for i in range(len(X)):\n",
    "            x = X[i]\n",
    "            y = Y[i]\n",
    "            \n",
    "            ## Compute the z --> to be plugged into the activation function\n",
    "            z = np.dot(W,x) + b\n",
    "            \n",
    "            ### Apply the step function\n",
    "            y_pred = step_af(z)\n",
    "            \n",
    "            ### Update weights and bias if prediction is incorrect (if there is an error)\n",
    "            error = y_pred - y\n",
    "            if error !=0:\n",
    "                W = W - alpha*error*x\n",
    "                b = b - alpha * error\n",
    "            print(f\"Input: {x}, Prediction: {y_pred}, Actual: {y}, Error: {error}, Weights: {W}, Bias: {b}\")\n",
    "            \n",
    "        return W, b"
   ]
  },
  {
   "cell_type": "markdown",
   "id": "935a9e11",
   "metadata": {},
   "source": [
    "Training the single layer perceptron (SLP)"
   ]
  },
  {
   "cell_type": "code",
   "execution_count": 7,
   "id": "6a4f7068",
   "metadata": {},
   "outputs": [
    {
     "name": "stdout",
     "output_type": "stream",
     "text": [
      "Epoch# 1\n",
      "Input: [2 1], Prediction: 1, Actual: 1, Error: 0, Weights: [ 0.5 -0.5], Bias: 0.1\n",
      "Input: [ 1 -1], Prediction: 1, Actual: 0, Error: 1, Weights: [ 0.4 -0.4], Bias: 0.0\n",
      "Input: [-1 -2], Prediction: 1, Actual: 0, Error: 1, Weights: [ 0.5 -0.2], Bias: -0.1\n",
      "Input: [-2  1], Prediction: 0, Actual: 1, Error: -1, Weights: [ 0.3 -0.1], Bias: 0.0\n"
     ]
    }
   ],
   "source": [
    "epochs=1 #number of iterations\n",
    "final_W, final_b = perceptron_train(X,Y,W,b,alpha, epochs)"
   ]
  },
  {
   "cell_type": "code",
   "execution_count": null,
   "id": "a1ea73cb",
   "metadata": {},
   "outputs": [],
   "source": []
  },
  {
   "cell_type": "code",
   "execution_count": null,
   "id": "9781c052",
   "metadata": {},
   "outputs": [],
   "source": []
  },
  {
   "cell_type": "code",
   "execution_count": null,
   "id": "cff1606f",
   "metadata": {},
   "outputs": [],
   "source": []
  }
 ],
 "metadata": {
  "kernelspec": {
   "display_name": "Python 3 (ipykernel)",
   "language": "python",
   "name": "python3"
  },
  "language_info": {
   "codemirror_mode": {
    "name": "ipython",
    "version": 3
   },
   "file_extension": ".py",
   "mimetype": "text/x-python",
   "name": "python",
   "nbconvert_exporter": "python",
   "pygments_lexer": "ipython3",
   "version": "3.11.5"
  }
 },
 "nbformat": 4,
 "nbformat_minor": 5
}
